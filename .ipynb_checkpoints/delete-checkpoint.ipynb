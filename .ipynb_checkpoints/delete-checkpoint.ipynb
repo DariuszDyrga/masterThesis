{
 "cells": [
  {
   "cell_type": "code",
   "execution_count": 1,
   "id": "db95dd0a",
   "metadata": {},
   "outputs": [],
   "source": [
    "import numpy as np\n",
    "import tensorflow as tf\n",
    "from tensorflow import keras\n",
    "from tensorflow.keras import layers\n",
    "import tensorflow_addons as tfa\n",
    "import matplotlib.pyplot as plt\n",
    "import numpy as np\n",
    "import cv2\n",
    "import os\n",
    "import scipy.io\n",
    "import shutil\n",
    "import pandas as pd\n",
    "from PIL import Image\n",
    "import numpy as np"
   ]
  },
  {
   "cell_type": "code",
   "execution_count": 2,
   "id": "929a2ad0",
   "metadata": {},
   "outputs": [],
   "source": [
    "df = pd.read_csv('StenosisDetection/train_labels.csv', usecols=['filename','xmax','ymax','xmin', 'ymin'])"
   ]
  },
  {
   "cell_type": "code",
   "execution_count": 3,
   "id": "48e002d7",
   "metadata": {},
   "outputs": [],
   "source": [
    "images, targets = [], []\n",
    "\n",
    "top_left_x_collection = []\n",
    "top_left_y_collection = []\n",
    "bottom_right_x_collection = []\n",
    "bottom_right_y_collection = [] "
   ]
  },
  {
   "cell_type": "code",
   "execution_count": 4,
   "id": "4347b637",
   "metadata": {},
   "outputs": [],
   "source": [
    "for index, row in df.iterrows():\n",
    "    image = keras.utils.load_img(\n",
    "        'StenosisDetection/dataset/'+row['filename'],\n",
    "    )\n",
    "\n",
    "    (w, h) = image.size[:2]\n",
    "    image = image.resize((299, 299))\n",
    "    images.append(keras.utils.img_to_array(image))\n",
    "    \n",
    "    \n",
    "    top_left_x, top_left_y = row['xmax'], row['ymax']\n",
    "    bottom_right_x, bottom_right_y = row['xmin'], row['ymin']\n",
    "    \n",
    "    targets.append(\n",
    "        (\n",
    "            float(top_left_x) / w,\n",
    "            float(top_left_y) / h,\n",
    "            float(bottom_right_x) / w,\n",
    "            float(bottom_right_y) / h,\n",
    "        )\n",
    "    )\n"
   ]
  },
  {
   "cell_type": "code",
   "execution_count": null,
   "id": "8b55bd97",
   "metadata": {},
   "outputs": [],
   "source": [
    "df_test = pd.read_csv('StenosisDetection/test_labels.csv', usecols=['filename','xmax','ymax','xmin', 'ymin'])"
   ]
  },
  {
   "cell_type": "code",
   "execution_count": null,
   "id": "4d79283b",
   "metadata": {},
   "outputs": [],
   "source": [
    "images_test, targets_test = [], [] "
   ]
  },
  {
   "cell_type": "code",
   "execution_count": null,
   "id": "43d336c6",
   "metadata": {},
   "outputs": [],
   "source": [
    "for index, row in df_test.iterrows():\n",
    "    image = keras.utils.load_img(\n",
    "        'StenosisDetection/dataset/'+row['filename'],\n",
    "    )\n",
    "\n",
    "    (w, h) = image.size[:2]\n",
    "    image = image.resize((224, 224))\n",
    "    images_test.append(keras.utils.img_to_array(image))\n",
    "    \n",
    "    \n",
    "    top_left_x, top_left_y = row['xmax'], row['ymax']\n",
    "    bottom_right_x, bottom_right_y = row['xmin'], row['ymin']\n",
    "    \n",
    "    targets_test.append(\n",
    "        (\n",
    "            float(top_left_x) / w,\n",
    "            float(top_left_y) / h,\n",
    "            float(bottom_right_x) / w,\n",
    "            float(bottom_right_y) / h,\n",
    "        )\n",
    "    )\n"
   ]
  },
  {
   "cell_type": "code",
   "execution_count": 5,
   "id": "31932971",
   "metadata": {},
   "outputs": [],
   "source": [
    "(x_train), (y_train) = (\n",
    "    np.asarray(images[: int(len(images))]),\n",
    "    np.asarray(targets[: int(len(targets))]),\n",
    ")\n"
   ]
  },
  {
   "cell_type": "code",
   "execution_count": null,
   "id": "22de1638",
   "metadata": {},
   "outputs": [],
   "source": [
    "(x_test), (y_test) = (\n",
    "    np.asarray(images_test[: int(len(images_test))]),\n",
    "    np.asarray(targets_test[: int(len(targets_test))]),\n",
    ")"
   ]
  },
  {
   "cell_type": "code",
   "execution_count": 6,
   "id": "7e65dfac",
   "metadata": {},
   "outputs": [
    {
     "name": "stdout",
     "output_type": "stream",
     "text": [
      "Metal device set to: Apple M1 Pro\n"
     ]
    },
    {
     "name": "stderr",
     "output_type": "stream",
     "text": [
      "2023-04-19 01:32:35.649753: I tensorflow/core/common_runtime/pluggable_device/pluggable_device_factory.cc:306] Could not identify NUMA node of platform GPU ID 0, defaulting to 0. Your kernel may not have been built with NUMA support.\n",
      "2023-04-19 01:32:35.650936: I tensorflow/core/common_runtime/pluggable_device/pluggable_device_factory.cc:272] Created TensorFlow device (/job:localhost/replica:0/task:0/device:GPU:0 with 0 MB memory) -> physical PluggableDevice (device: 0, name: METAL, pci bus id: <undefined>)\n"
     ]
    },
    {
     "name": "stdout",
     "output_type": "stream",
     "text": [
      "Downloading data from https://storage.googleapis.com/tensorflow/keras-applications/inception_resnet_v2/inception_resnet_v2_weights_tf_dim_ordering_tf_kernels.h5\n",
      "225209952/225209952 [==============================] - 23s 0us/step\n"
     ]
    }
   ],
   "source": [
    "model = tf.keras.applications.InceptionResNetV2(\n",
    "    include_top=True,\n",
    "    weights=\"imagenet\",\n",
    ")"
   ]
  },
  {
   "cell_type": "code",
   "execution_count": 7,
   "id": "8d3cc939",
   "metadata": {},
   "outputs": [],
   "source": [
    "model.compile(optimizer='adam',\n",
    "                  loss=tf.keras.losses.Huber(delta=1.0),\n",
    "                  metrics=[tf.keras.metrics.AUC(curve='PR', name='mAP')])"
   ]
  },
  {
   "cell_type": "code",
   "execution_count": null,
   "id": "34415c72",
   "metadata": {},
   "outputs": [],
   "source": [
    "from tensorflow.keras.layers import GlobalAveragePooling2D, Dense, Dropout\n",
    "\n",
    "# Dodaj GlobalAveragePooling2D warstwę\n",
    "x = model.output\n",
    "x = GlobalAveragePooling2D()(x)\n",
    "\n",
    "# Dodaj Dense warstwę\n",
    "x = Dense(1024, activation='relu')(x)\n",
    "x = Dropout(0.2)(x)\n",
    "\n",
    "# Dodaj ostatnią warstwę softmax do klasyfikacji\n",
    "predictions = Dense(4, activation='softmax')(x)\n",
    "\n",
    "# Utwórz nowy model\n",
    "new_model = tf.keras.models.Model(inputs=model.input, outputs=predictions)\n",
    "\n",
    "# Skompiluj model z odpowiednią funkcją kosztów i optymalizatorem\n",
    "new_model.compile(optimizer='adam',\n",
    "                  loss=tf.keras.losses.Huber(delta=1.0),\n",
    "                  metrics=[tf.keras.metrics.AUC(curve='PR', name='mAP')])\n",
    "\n"
   ]
  },
  {
   "cell_type": "code",
   "execution_count": 8,
   "id": "f3d561d6",
   "metadata": {},
   "outputs": [
    {
     "name": "stdout",
     "output_type": "stream",
     "text": [
      "Epoch 1/5\n"
     ]
    },
    {
     "name": "stderr",
     "output_type": "stream",
     "text": [
      "2023-04-19 01:34:05.374805: W tensorflow/core/platform/profile_utils/cpu_utils.cc:128] Failed to get CPU frequency: 0 Hz\n"
     ]
    },
    {
     "ename": "ValueError",
     "evalue": "in user code:\n\n    File \"/Users/ddyrga/.pyenv/versions/3.10.8/lib/python3.10/site-packages/keras/engine/training.py\", line 1051, in train_function  *\n        return step_function(self, iterator)\n    File \"/Users/ddyrga/.pyenv/versions/3.10.8/lib/python3.10/site-packages/keras/engine/training.py\", line 1040, in step_function  **\n        outputs = model.distribute_strategy.run(run_step, args=(data,))\n    File \"/Users/ddyrga/.pyenv/versions/3.10.8/lib/python3.10/site-packages/keras/engine/training.py\", line 1030, in run_step  **\n        outputs = model.train_step(data)\n    File \"/Users/ddyrga/.pyenv/versions/3.10.8/lib/python3.10/site-packages/keras/engine/training.py\", line 890, in train_step\n        loss = self.compute_loss(x, y, y_pred, sample_weight)\n    File \"/Users/ddyrga/.pyenv/versions/3.10.8/lib/python3.10/site-packages/keras/engine/training.py\", line 948, in compute_loss\n        return self.compiled_loss(\n    File \"/Users/ddyrga/.pyenv/versions/3.10.8/lib/python3.10/site-packages/keras/engine/compile_utils.py\", line 201, in __call__\n        loss_value = loss_obj(y_t, y_p, sample_weight=sw)\n    File \"/Users/ddyrga/.pyenv/versions/3.10.8/lib/python3.10/site-packages/keras/losses.py\", line 139, in __call__\n        losses = call_fn(y_true, y_pred)\n    File \"/Users/ddyrga/.pyenv/versions/3.10.8/lib/python3.10/site-packages/keras/losses.py\", line 243, in call  **\n        return ag_fn(y_true, y_pred, **self._fn_kwargs)\n    File \"/Users/ddyrga/.pyenv/versions/3.10.8/lib/python3.10/site-packages/keras/losses.py\", line 1694, in huber\n        error = tf.subtract(y_pred, y_true)\n\n    ValueError: Dimensions must be equal, but are 1000 and 4 for '{{node huber_loss/Sub}} = Sub[T=DT_FLOAT](inception_resnet_v2/predictions/Softmax, IteratorGetNext:1)' with input shapes: [1,1000], [1,4].\n",
     "output_type": "error",
     "traceback": [
      "\u001b[0;31m---------------------------------------------------------------------------\u001b[0m",
      "\u001b[0;31mValueError\u001b[0m                                Traceback (most recent call last)",
      "Cell \u001b[0;32mIn[8], line 1\u001b[0m\n\u001b[0;32m----> 1\u001b[0m \u001b[43mmodel\u001b[49m\u001b[38;5;241;43m.\u001b[39;49m\u001b[43mfit\u001b[49m\u001b[43m(\u001b[49m\u001b[43mx\u001b[49m\u001b[38;5;241;43m=\u001b[39;49m\u001b[43mx_train\u001b[49m\u001b[43m,\u001b[49m\u001b[43m \u001b[49m\u001b[43my\u001b[49m\u001b[38;5;241;43m=\u001b[39;49m\u001b[43my_train\u001b[49m\u001b[43m,\u001b[49m\u001b[43m \u001b[49m\u001b[43mepochs\u001b[49m\u001b[38;5;241;43m=\u001b[39;49m\u001b[38;5;241;43m5\u001b[39;49m\u001b[43m,\u001b[49m\u001b[43m \u001b[49m\u001b[43mbatch_size\u001b[49m\u001b[38;5;241;43m=\u001b[39;49m\u001b[38;5;241;43m1\u001b[39;49m\u001b[43m)\u001b[49m\n",
      "File \u001b[0;32m~/.pyenv/versions/3.10.8/lib/python3.10/site-packages/keras/utils/traceback_utils.py:67\u001b[0m, in \u001b[0;36mfilter_traceback.<locals>.error_handler\u001b[0;34m(*args, **kwargs)\u001b[0m\n\u001b[1;32m     65\u001b[0m \u001b[38;5;28;01mexcept\u001b[39;00m \u001b[38;5;167;01mException\u001b[39;00m \u001b[38;5;28;01mas\u001b[39;00m e:  \u001b[38;5;66;03m# pylint: disable=broad-except\u001b[39;00m\n\u001b[1;32m     66\u001b[0m   filtered_tb \u001b[38;5;241m=\u001b[39m _process_traceback_frames(e\u001b[38;5;241m.\u001b[39m__traceback__)\n\u001b[0;32m---> 67\u001b[0m   \u001b[38;5;28;01mraise\u001b[39;00m e\u001b[38;5;241m.\u001b[39mwith_traceback(filtered_tb) \u001b[38;5;28;01mfrom\u001b[39;00m \u001b[38;5;28mNone\u001b[39m\n\u001b[1;32m     68\u001b[0m \u001b[38;5;28;01mfinally\u001b[39;00m:\n\u001b[1;32m     69\u001b[0m   \u001b[38;5;28;01mdel\u001b[39;00m filtered_tb\n",
      "File \u001b[0;32m/var/folders/4x/5lfqgjdd5h9btfwyv4flfpqr0000gn/T/__autograph_generated_file2lj79knr.py:15\u001b[0m, in \u001b[0;36mouter_factory.<locals>.inner_factory.<locals>.tf__train_function\u001b[0;34m(iterator)\u001b[0m\n\u001b[1;32m     13\u001b[0m \u001b[38;5;28;01mtry\u001b[39;00m:\n\u001b[1;32m     14\u001b[0m     do_return \u001b[38;5;241m=\u001b[39m \u001b[38;5;28;01mTrue\u001b[39;00m\n\u001b[0;32m---> 15\u001b[0m     retval_ \u001b[38;5;241m=\u001b[39m ag__\u001b[38;5;241m.\u001b[39mconverted_call(ag__\u001b[38;5;241m.\u001b[39mld(step_function), (ag__\u001b[38;5;241m.\u001b[39mld(\u001b[38;5;28mself\u001b[39m), ag__\u001b[38;5;241m.\u001b[39mld(iterator)), \u001b[38;5;28;01mNone\u001b[39;00m, fscope)\n\u001b[1;32m     16\u001b[0m \u001b[38;5;28;01mexcept\u001b[39;00m:\n\u001b[1;32m     17\u001b[0m     do_return \u001b[38;5;241m=\u001b[39m \u001b[38;5;28;01mFalse\u001b[39;00m\n",
      "\u001b[0;31mValueError\u001b[0m: in user code:\n\n    File \"/Users/ddyrga/.pyenv/versions/3.10.8/lib/python3.10/site-packages/keras/engine/training.py\", line 1051, in train_function  *\n        return step_function(self, iterator)\n    File \"/Users/ddyrga/.pyenv/versions/3.10.8/lib/python3.10/site-packages/keras/engine/training.py\", line 1040, in step_function  **\n        outputs = model.distribute_strategy.run(run_step, args=(data,))\n    File \"/Users/ddyrga/.pyenv/versions/3.10.8/lib/python3.10/site-packages/keras/engine/training.py\", line 1030, in run_step  **\n        outputs = model.train_step(data)\n    File \"/Users/ddyrga/.pyenv/versions/3.10.8/lib/python3.10/site-packages/keras/engine/training.py\", line 890, in train_step\n        loss = self.compute_loss(x, y, y_pred, sample_weight)\n    File \"/Users/ddyrga/.pyenv/versions/3.10.8/lib/python3.10/site-packages/keras/engine/training.py\", line 948, in compute_loss\n        return self.compiled_loss(\n    File \"/Users/ddyrga/.pyenv/versions/3.10.8/lib/python3.10/site-packages/keras/engine/compile_utils.py\", line 201, in __call__\n        loss_value = loss_obj(y_t, y_p, sample_weight=sw)\n    File \"/Users/ddyrga/.pyenv/versions/3.10.8/lib/python3.10/site-packages/keras/losses.py\", line 139, in __call__\n        losses = call_fn(y_true, y_pred)\n    File \"/Users/ddyrga/.pyenv/versions/3.10.8/lib/python3.10/site-packages/keras/losses.py\", line 243, in call  **\n        return ag_fn(y_true, y_pred, **self._fn_kwargs)\n    File \"/Users/ddyrga/.pyenv/versions/3.10.8/lib/python3.10/site-packages/keras/losses.py\", line 1694, in huber\n        error = tf.subtract(y_pred, y_true)\n\n    ValueError: Dimensions must be equal, but are 1000 and 4 for '{{node huber_loss/Sub}} = Sub[T=DT_FLOAT](inception_resnet_v2/predictions/Softmax, IteratorGetNext:1)' with input shapes: [1,1000], [1,4].\n"
     ]
    }
   ],
   "source": [
    "model.fit(x=x_train, y=y_train, epochs=5, batch_size=1)"
   ]
  },
  {
   "cell_type": "code",
   "execution_count": null,
   "id": "0accf1fa",
   "metadata": {},
   "outputs": [],
   "source": [
    "x_train.shape"
   ]
  },
  {
   "cell_type": "code",
   "execution_count": null,
   "id": "54719738",
   "metadata": {},
   "outputs": [],
   "source": [
    "y_train.shape"
   ]
  },
  {
   "cell_type": "code",
   "execution_count": null,
   "id": "716b824e",
   "metadata": {},
   "outputs": [],
   "source": [
    "len(x_train)"
   ]
  },
  {
   "cell_type": "code",
   "execution_count": null,
   "id": "76ebac48",
   "metadata": {},
   "outputs": [],
   "source": [
    "new_model.fit(x=x_train[0:1500], y=y_train[0:1500], epochs=5, batch_size=1)"
   ]
  },
  {
   "cell_type": "code",
   "execution_count": null,
   "id": "8bec3106",
   "metadata": {},
   "outputs": [],
   "source": []
  }
 ],
 "metadata": {
  "kernelspec": {
   "display_name": "Python 3 (ipykernel)",
   "language": "python",
   "name": "python3"
  },
  "language_info": {
   "codemirror_mode": {
    "name": "ipython",
    "version": 3
   },
   "file_extension": ".py",
   "mimetype": "text/x-python",
   "name": "python",
   "nbconvert_exporter": "python",
   "pygments_lexer": "ipython3",
   "version": "3.10.8"
  }
 },
 "nbformat": 4,
 "nbformat_minor": 5
}
