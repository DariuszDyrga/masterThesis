{
 "cells": [
  {
   "cell_type": "markdown",
   "id": "8f98010c",
   "metadata": {},
   "source": [
    "# Vision Transformer (ViT) with object detection full model train"
   ]
  },
  {
   "cell_type": "markdown",
   "id": "b38a96d3",
   "metadata": {},
   "source": [
    "dataset: https://data.mendeley.com/datasets/ydrm75xywg/1"
   ]
  },
  {
   "cell_type": "code",
   "execution_count": 2,
   "id": "a9c96451",
   "metadata": {},
   "outputs": [],
   "source": [
    "import numpy as np\n",
    "import tensorflow as tf\n",
    "from tensorflow import keras\n",
    "from tensorflow.keras import layers\n",
    "import tensorflow_addons as tfa\n",
    "import matplotlib.pyplot as plt\n",
    "import numpy as np\n",
    "import cv2\n",
    "import os\n",
    "import scipy.io\n",
    "import shutil\n",
    "import pandas as pd\n",
    "from PIL import Image\n",
    "import numpy as np"
   ]
  },
  {
   "cell_type": "code",
   "execution_count": 3,
   "id": "23f6b5b2",
   "metadata": {},
   "outputs": [],
   "source": [
    "df = pd.read_csv('StenosisDetection/train_labels.csv', usecols=['filename','xmax','ymax','xmin', 'ymin'])"
   ]
  },
  {
   "cell_type": "code",
   "execution_count": 4,
   "id": "60a9ec6b",
   "metadata": {},
   "outputs": [],
   "source": [
    "image_size = 224  \n",
    "images, targets = [], []\n",
    "\n",
    "top_left_x_collection = []\n",
    "top_left_y_collection = []\n",
    "bottom_right_x_collection = []\n",
    "bottom_right_y_collection = [] "
   ]
  },
  {
   "cell_type": "code",
   "execution_count": 5,
   "id": "ac4e7b82",
   "metadata": {},
   "outputs": [],
   "source": [
    "for index, row in df.iterrows():\n",
    "    image = keras.utils.load_img(\n",
    "        'StenosisDetection/dataset/'+row['filename'],\n",
    "    )\n",
    "\n",
    "    (w, h) = image.size[:2]\n",
    "    image = image.resize((224, 224))\n",
    "    images.append(keras.utils.img_to_array(image))\n",
    "    \n",
    "    \n",
    "    top_left_x, top_left_y = row['xmax'], row['ymax']\n",
    "    bottom_right_x, bottom_right_y = row['xmin'], row['ymin']\n",
    "    \n",
    "    targets.append(\n",
    "        (\n",
    "            float(top_left_x) / w,\n",
    "            float(top_left_y) / h,\n",
    "            float(bottom_right_x) / w,\n",
    "            float(bottom_right_y) / h,\n",
    "        )\n",
    "    )\n"
   ]
  },
  {
   "cell_type": "code",
   "execution_count": 6,
   "id": "2a5b4a2a",
   "metadata": {},
   "outputs": [],
   "source": [
    "(x_train), (y_train) = (\n",
    "    np.asarray(images[: int(len(images) * 0.8)]),\n",
    "    np.asarray(targets[: int(len(targets) * 0.8)]),\n",
    ")\n",
    "(x_test), (y_test) = (\n",
    "    np.asarray(images[int(len(images) * 0.8) :]),\n",
    "    np.asarray(targets[int(len(targets) * 0.8) :]),\n",
    ")"
   ]
  },
  {
   "cell_type": "code",
   "execution_count": 7,
   "id": "a884c3bd",
   "metadata": {},
   "outputs": [
    {
     "data": {
      "text/plain": [
       "7493"
      ]
     },
     "execution_count": 7,
     "metadata": {},
     "output_type": "execute_result"
    }
   ],
   "source": [
    "len(images)"
   ]
  },
  {
   "cell_type": "code",
   "execution_count": 8,
   "id": "b5ae8817",
   "metadata": {},
   "outputs": [
    {
     "data": {
      "text/plain": [
       "7493"
      ]
     },
     "execution_count": 8,
     "metadata": {},
     "output_type": "execute_result"
    }
   ],
   "source": [
    "len(targets)"
   ]
  },
  {
   "cell_type": "code",
   "execution_count": 9,
   "id": "1c3c3364",
   "metadata": {},
   "outputs": [
    {
     "data": {
      "text/plain": [
       "array([[[253., 253., 253.],\n",
       "        [255., 255., 255.],\n",
       "        [255., 255., 255.],\n",
       "        ...,\n",
       "        [252., 252., 252.],\n",
       "        [238., 238., 238.],\n",
       "        [224., 224., 224.]],\n",
       "\n",
       "       [[255., 255., 255.],\n",
       "        [255., 255., 255.],\n",
       "        [255., 255., 255.],\n",
       "        ...,\n",
       "        [254., 254., 254.],\n",
       "        [237., 237., 237.],\n",
       "        [226., 226., 226.]],\n",
       "\n",
       "       [[255., 255., 255.],\n",
       "        [255., 255., 255.],\n",
       "        [255., 255., 255.],\n",
       "        ...,\n",
       "        [250., 250., 250.],\n",
       "        [237., 237., 237.],\n",
       "        [220., 220., 220.]],\n",
       "\n",
       "       ...,\n",
       "\n",
       "       [[ 16.,  16.,  16.],\n",
       "        [ 21.,  21.,  21.],\n",
       "        [ 22.,  22.,  22.],\n",
       "        ...,\n",
       "        [ 84.,  84.,  84.],\n",
       "        [ 68.,  68.,  68.],\n",
       "        [ 48.,  48.,  48.]],\n",
       "\n",
       "       [[ 11.,  11.,  11.],\n",
       "        [ 11.,  11.,  11.],\n",
       "        [  8.,   8.,   8.],\n",
       "        ...,\n",
       "        [ 52.,  52.,  52.],\n",
       "        [ 47.,  47.,  47.],\n",
       "        [ 40.,  40.,  40.]],\n",
       "\n",
       "       [[ 13.,  13.,  13.],\n",
       "        [ 12.,  12.,  12.],\n",
       "        [ 12.,  12.,  12.],\n",
       "        ...,\n",
       "        [ 34.,  34.,  34.],\n",
       "        [ 36.,  36.,  36.],\n",
       "        [ 40.,  40.,  40.]]], dtype=float32)"
      ]
     },
     "execution_count": 9,
     "metadata": {},
     "output_type": "execute_result"
    }
   ],
   "source": [
    "images[1]"
   ]
  },
  {
   "cell_type": "code",
   "execution_count": 10,
   "id": "bd098dbe",
   "metadata": {},
   "outputs": [
    {
     "data": {
      "text/plain": [
       "(0.5575, 0.43625, 0.52375, 0.39875)"
      ]
     },
     "execution_count": 10,
     "metadata": {},
     "output_type": "execute_result"
    }
   ],
   "source": [
    "targets[1]"
   ]
  },
  {
   "cell_type": "code",
   "execution_count": 11,
   "id": "84ff11ef",
   "metadata": {},
   "outputs": [],
   "source": [
    "def mlp(x, hidden_units, dropout_rate):\n",
    "    for units in hidden_units:\n",
    "        x = layers.Dense(units, activation=tf.nn.gelu)(x)\n",
    "        x = layers.Dropout(dropout_rate)(x)\n",
    "    return x"
   ]
  },
  {
   "cell_type": "code",
   "execution_count": 12,
   "id": "532a6c9f",
   "metadata": {},
   "outputs": [],
   "source": [
    "class Patches(layers.Layer):\n",
    "    def __init__(self, patch_size):\n",
    "        super(Patches, self).__init__()\n",
    "        self.patch_size = patch_size\n",
    "\n",
    "    #     Override function to avoid error while saving model\n",
    "    def get_config(self):\n",
    "        config = super().get_config().copy()\n",
    "        config.update(\n",
    "            {\n",
    "                \"input_shape\": input_shape,\n",
    "                \"patch_size\": patch_size,\n",
    "                \"num_patches\": num_patches,\n",
    "                \"projection_dim\": projection_dim,\n",
    "                \"num_heads\": num_heads,\n",
    "                \"transformer_units\": transformer_units,\n",
    "                \"transformer_layers\": transformer_layers,\n",
    "                \"mlp_head_units\": mlp_head_units,\n",
    "            }\n",
    "        )\n",
    "        return config\n",
    "\n",
    "    def call(self, images):\n",
    "        batch_size = tf.shape(images)[0]\n",
    "        patches = tf.image.extract_patches(\n",
    "            images=images,\n",
    "            sizes=[1, self.patch_size, self.patch_size, 1],\n",
    "            strides=[1, self.patch_size, self.patch_size, 1],\n",
    "            rates=[1, 1, 1, 1],\n",
    "            padding=\"VALID\",\n",
    "        )\n",
    "        return tf.reshape(patches, [batch_size, -1, patches.shape[-1]])"
   ]
  },
  {
   "cell_type": "code",
   "execution_count": 13,
   "id": "3c1335be",
   "metadata": {},
   "outputs": [],
   "source": [
    "patch_size = 32"
   ]
  },
  {
   "cell_type": "code",
   "execution_count": 14,
   "id": "3aae5cd5",
   "metadata": {},
   "outputs": [
    {
     "name": "stderr",
     "output_type": "stream",
     "text": [
      "Clipping input data to the valid range for imshow with RGB data ([0..1] for floats or [0..255] for integers).\n"
     ]
    },
    {
     "data": {
      "text/plain": [
       "(-0.5, 223.5, 223.5, -0.5)"
      ]
     },
     "execution_count": 14,
     "metadata": {},
     "output_type": "execute_result"
    },
    {
     "data": {
      "image/png": "[encoded data removed]",
      "text/plain": [
       "<Figure size 400x400 with 1 Axes>"
      ]
     },
     "metadata": {},
     "output_type": "display_data"
    }
   ],
   "source": [
    "plt.figure(figsize=(4, 4))\n",
    "plt.imshow(x_train[0])\n",
    "plt.axis(\"off\")"
   ]
  },
  {
   "cell_type": "code",
   "execution_count": 15,
   "id": "48ba7028",
   "metadata": {},
   "outputs": [
    {
     "name": "stdout",
     "output_type": "stream",
     "text": [
      "<class 'numpy.ndarray'>\n"
     ]
    }
   ],
   "source": [
    "print(type(x_train[0]))\n"
   ]
  },
  {
   "cell_type": "code",
   "execution_count": 16,
   "id": "1f715f48",
   "metadata": {},
   "outputs": [
    {
     "name": "stdout",
     "output_type": "stream",
     "text": [
      "Metal device set to: Apple M1 Pro\n"
     ]
    },
    {
     "name": "stderr",
     "output_type": "stream",
     "text": [
      "2022-12-23 09:42:03.436033: I tensorflow/core/common_runtime/pluggable_device/pluggable_device_factory.cc:306] Could not identify NUMA node of platform GPU ID 0, defaulting to 0. Your kernel may not have been built with NUMA support.\n",
      "2022-12-23 09:42:03.437485: I tensorflow/core/common_runtime/pluggable_device/pluggable_device_factory.cc:272] Created TensorFlow device (/job:localhost/replica:0/task:0/device:GPU:0 with 0 MB memory) -> physical PluggableDevice (device: 0, name: METAL, pci bus id: <undefined>)\n"
     ]
    }
   ],
   "source": [
    "(x_train), (y_train) = (\n",
    "    np.asarray(images[: int(len(images) * 0.8)]),\n",
    "    np.asarray(targets[: int(len(targets) * 0.8)]),\n",
    ")\n",
    "(x_test), (y_test) = (\n",
    "    np.asarray(images[int(len(images) * 0.8) :]),\n",
    "    np.asarray(targets[int(len(targets) * 0.8) :]),\n",
    ")\n",
    "patches = Patches(patch_size)(tf.convert_to_tensor([x_train[0]]))"
   ]
  },
  {
   "cell_type": "code",
   "execution_count": 17,
   "id": "8a59d07c",
   "metadata": {},
   "outputs": [
    {
     "name": "stdout",
     "output_type": "stream",
     "text": [
      "Image size: 224 X 224\n",
      "Patch size: 32 X 32\n",
      "49 patches per image \n",
      "3072 elements per patch\n"
     ]
    }
   ],
   "source": [
    "print(f\"Image size: {image_size} X {image_size}\")\n",
    "print(f\"Patch size: {patch_size} X {patch_size}\")\n",
    "print(f\"{patches.shape[1]} patches per image \\n{patches.shape[-1]} elements per patch\")"
   ]
  },
  {
   "cell_type": "code",
   "execution_count": 18,
   "id": "709ab01b",
   "metadata": {},
   "outputs": [
    {
     "data": {
      "image/png": "[encoded data removed]",
      "text/plain": [
       "<Figure size 400x400 with 49 Axes>"
      ]
     },
     "metadata": {},
     "output_type": "display_data"
    }
   ],
   "source": [
    "n = int(np.sqrt(patches.shape[1]))\n",
    "plt.figure(figsize=(4, 4))\n",
    "for i, patch in enumerate(patches[0]):\n",
    "    ax = plt.subplot(n, n, i + 1)\n",
    "    patch_img = tf.reshape(patch, (patch_size, patch_size, 3))\n",
    "    plt.imshow(patch_img.numpy().astype(\"uint8\"))\n",
    "    plt.axis(\"off\")"
   ]
  },
  {
   "cell_type": "code",
   "execution_count": 19,
   "id": "dd880fd9",
   "metadata": {},
   "outputs": [
    {
     "data": {
      "text/plain": [
       "array([[[253., 253., 253.],\n",
       "        [255., 255., 255.],\n",
       "        [255., 255., 255.],\n",
       "        ...,\n",
       "        [252., 252., 252.],\n",
       "        [238., 238., 238.],\n",
       "        [224., 224., 224.]],\n",
       "\n",
       "       [[255., 255., 255.],\n",
       "        [255., 255., 255.],\n",
       "        [255., 255., 255.],\n",
       "        ...,\n",
       "        [254., 254., 254.],\n",
       "        [237., 237., 237.],\n",
       "        [226., 226., 226.]],\n",
       "\n",
       "       [[255., 255., 255.],\n",
       "        [255., 255., 255.],\n",
       "        [255., 255., 255.],\n",
       "        ...,\n",
       "        [250., 250., 250.],\n",
       "        [237., 237., 237.],\n",
       "        [220., 220., 220.]],\n",
       "\n",
       "       ...,\n",
       "\n",
       "       [[ 16.,  16.,  16.],\n",
       "        [ 21.,  21.,  21.],\n",
       "        [ 22.,  22.,  22.],\n",
       "        ...,\n",
       "        [ 84.,  84.,  84.],\n",
       "        [ 68.,  68.,  68.],\n",
       "        [ 48.,  48.,  48.]],\n",
       "\n",
       "       [[ 11.,  11.,  11.],\n",
       "        [ 11.,  11.,  11.],\n",
       "        [  8.,   8.,   8.],\n",
       "        ...,\n",
       "        [ 52.,  52.,  52.],\n",
       "        [ 47.,  47.,  47.],\n",
       "        [ 40.,  40.,  40.]],\n",
       "\n",
       "       [[ 13.,  13.,  13.],\n",
       "        [ 12.,  12.,  12.],\n",
       "        [ 12.,  12.,  12.],\n",
       "        ...,\n",
       "        [ 34.,  34.,  34.],\n",
       "        [ 36.,  36.,  36.],\n",
       "        [ 40.,  40.,  40.]]], dtype=float32)"
      ]
     },
     "execution_count": 19,
     "metadata": {},
     "output_type": "execute_result"
    }
   ],
   "source": [
    "x_train[1]"
   ]
  },
  {
   "cell_type": "code",
   "execution_count": 20,
   "id": "64293bf6",
   "metadata": {},
   "outputs": [
    {
     "name": "stdout",
     "output_type": "stream",
     "text": [
      "Image size: 224 X 224\n",
      "Patch size: 32 X 32\n",
      "49 patches per image \n",
      "3072 elements per patch\n"
     ]
    }
   ],
   "source": [
    "patches = Patches(patch_size)(tf.convert_to_tensor([x_train[1]]))\n",
    "print(f\"Image size: {image_size} X {image_size}\")\n",
    "print(f\"Patch size: {patch_size} X {patch_size}\")\n",
    "print(f\"{patches.shape[1]} patches per image \\n{patches.shape[-1]} elements per patch\")"
   ]
  },
  {
   "cell_type": "code",
   "execution_count": 21,
   "id": "53c2146c",
   "metadata": {},
   "outputs": [
    {
     "name": "stderr",
     "output_type": "stream",
     "text": [
      "Clipping input data to the valid range for imshow with RGB data ([0..1] for floats or [0..255] for integers).\n",
      "Clipping input data to the valid range for imshow with RGB data ([0..1] for floats or [0..255] for integers).\n",
      "Clipping input data to the valid range for imshow with RGB data ([0..1] for floats or [0..255] for integers).\n",
      "Clipping input data to the valid range for imshow with RGB data ([0..1] for floats or [0..255] for integers).\n",
      "Clipping input data to the valid range for imshow with RGB data ([0..1] for floats or [0..255] for integers).\n",
      "Clipping input data to the valid range for imshow with RGB data ([0..1] for floats or [0..255] for integers).\n",
      "Clipping input data to the valid range for imshow with RGB data ([0..1] for floats or [0..255] for integers).\n",
      "Clipping input data to the valid range for imshow with RGB data ([0..1] for floats or [0..255] for integers).\n",
      "Clipping input data to the valid range for imshow with RGB data ([0..1] for floats or [0..255] for integers).\n",
      "Clipping input data to the valid range for imshow with RGB data ([0..1] for floats or [0..255] for integers).\n",
      "Clipping input data to the valid range for imshow with RGB data ([0..1] for floats or [0..255] for integers).\n",
      "Clipping input data to the valid range for imshow with RGB data ([0..1] for floats or [0..255] for integers).\n",
      "Clipping input data to the valid range for imshow with RGB data ([0..1] for floats or [0..255] for integers).\n",
      "Clipping input data to the valid range for imshow with RGB data ([0..1] for floats or [0..255] for integers).\n",
      "Clipping input data to the valid range for imshow with RGB data ([0..1] for floats or [0..255] for integers).\n",
      "Clipping input data to the valid range for imshow with RGB data ([0..1] for floats or [0..255] for integers).\n",
      "Clipping input data to the valid range for imshow with RGB data ([0..1] for floats or [0..255] for integers).\n",
      "Clipping input data to the valid range for imshow with RGB data ([0..1] for floats or [0..255] for integers).\n",
      "Clipping input data to the valid range for imshow with RGB data ([0..1] for floats or [0..255] for integers).\n",
      "Clipping input data to the valid range for imshow with RGB data ([0..1] for floats or [0..255] for integers).\n",
      "Clipping input data to the valid range for imshow with RGB data ([0..1] for floats or [0..255] for integers).\n",
      "Clipping input data to the valid range for imshow with RGB data ([0..1] for floats or [0..255] for integers).\n",
      "Clipping input data to the valid range for imshow with RGB data ([0..1] for floats or [0..255] for integers).\n",
      "Clipping input data to the valid range for imshow with RGB data ([0..1] for floats or [0..255] for integers).\n",
      "Clipping input data to the valid range for imshow with RGB data ([0..1] for floats or [0..255] for integers).\n",
      "Clipping input data to the valid range for imshow with RGB data ([0..1] for floats or [0..255] for integers).\n",
      "Clipping input data to the valid range for imshow with RGB data ([0..1] for floats or [0..255] for integers).\n",
      "Clipping input data to the valid range for imshow with RGB data ([0..1] for floats or [0..255] for integers).\n",
      "Clipping input data to the valid range for imshow with RGB data ([0..1] for floats or [0..255] for integers).\n",
      "Clipping input data to the valid range for imshow with RGB data ([0..1] for floats or [0..255] for integers).\n",
      "Clipping input data to the valid range for imshow with RGB data ([0..1] for floats or [0..255] for integers).\n",
      "Clipping input data to the valid range for imshow with RGB data ([0..1] for floats or [0..255] for integers).\n",
      "Clipping input data to the valid range for imshow with RGB data ([0..1] for floats or [0..255] for integers).\n",
      "Clipping input data to the valid range for imshow with RGB data ([0..1] for floats or [0..255] for integers).\n",
      "Clipping input data to the valid range for imshow with RGB data ([0..1] for floats or [0..255] for integers).\n",
      "Clipping input data to the valid range for imshow with RGB data ([0..1] for floats or [0..255] for integers).\n",
      "Clipping input data to the valid range for imshow with RGB data ([0..1] for floats or [0..255] for integers).\n",
      "Clipping input data to the valid range for imshow with RGB data ([0..1] for floats or [0..255] for integers).\n",
      "Clipping input data to the valid range for imshow with RGB data ([0..1] for floats or [0..255] for integers).\n",
      "Clipping input data to the valid range for imshow with RGB data ([0..1] for floats or [0..255] for integers).\n",
      "Clipping input data to the valid range for imshow with RGB data ([0..1] for floats or [0..255] for integers).\n",
      "Clipping input data to the valid range for imshow with RGB data ([0..1] for floats or [0..255] for integers).\n",
      "Clipping input data to the valid range for imshow with RGB data ([0..1] for floats or [0..255] for integers).\n",
      "Clipping input data to the valid range for imshow with RGB data ([0..1] for floats or [0..255] for integers).\n",
      "Clipping input data to the valid range for imshow with RGB data ([0..1] for floats or [0..255] for integers).\n",
      "Clipping input data to the valid range for imshow with RGB data ([0..1] for floats or [0..255] for integers).\n",
      "Clipping input data to the valid range for imshow with RGB data ([0..1] for floats or [0..255] for integers).\n",
      "Clipping input data to the valid range for imshow with RGB data ([0..1] for floats or [0..255] for integers).\n",
      "Clipping input data to the valid range for imshow with RGB data ([0..1] for floats or [0..255] for integers).\n"
     ]
    },
    {
     "data": {
      "image/png": "[encoded data removed]",
      "text/plain": [
       "<Figure size 400x400 with 49 Axes>"
      ]
     },
     "metadata": {},
     "output_type": "display_data"
    }
   ],
   "source": [
    "n = int(np.sqrt(patches.shape[1]))\n",
    "plt.figure(figsize=(4, 4))\n",
    "for i, patch in enumerate(patches[0]):\n",
    "    ax = plt.subplot(n, n, i + 1)\n",
    "    patch_img = tf.reshape(patch, (patch_size, patch_size, 3))\n",
    "    plt.imshow(patch_img.numpy())\n",
    "    plt.axis(\"off\")"
   ]
  },
  {
   "cell_type": "code",
   "execution_count": 22,
   "id": "120caf83",
   "metadata": {},
   "outputs": [],
   "source": [
    "class PatchEncoder(layers.Layer):\n",
    "    def __init__(self, num_patches, projection_dim):\n",
    "        super(PatchEncoder, self).__init__()\n",
    "        self.num_patches = num_patches\n",
    "        self.projection = layers.Dense(units=projection_dim)\n",
    "        self.position_embedding = layers.Embedding(\n",
    "            input_dim=num_patches, output_dim=projection_dim\n",
    "        )\n",
    "\n",
    "    def get_config(self):\n",
    "        config = super().get_config().copy()\n",
    "        config.update(\n",
    "            {\n",
    "                \"input_shape\": input_shape,\n",
    "                \"patch_size\": patch_size,\n",
    "                \"num_patches\": num_patches,\n",
    "                \"projection_dim\": projection_dim,\n",
    "                \"num_heads\": num_heads,\n",
    "                \"transformer_units\": transformer_units,\n",
    "                \"transformer_layers\": transformer_layers,\n",
    "                \"mlp_head_units\": mlp_head_units,\n",
    "            }\n",
    "        )\n",
    "        return config\n",
    "\n",
    "    def call(self, patch):\n",
    "        positions = tf.range(start=0, limit=self.num_patches, delta=1)\n",
    "        encoded = self.projection(patch) + self.position_embedding(positions)\n",
    "        return encoded\n"
   ]
  },
  {
   "cell_type": "code",
   "execution_count": 23,
   "id": "7e055e61",
   "metadata": {},
   "outputs": [],
   "source": [
    "def create_vit_object_detector(\n",
    "    input_shape,\n",
    "    patch_size,\n",
    "    num_patches,\n",
    "    projection_dim,\n",
    "    num_heads,\n",
    "    transformer_units,\n",
    "    transformer_layers,\n",
    "    mlp_head_units,\n",
    "):\n",
    "    inputs = layers.Input(shape=input_shape)\n",
    "    patches = Patches(patch_size)(inputs)\n",
    "    encoded_patches = PatchEncoder(num_patches, projection_dim)(patches)\n",
    "\n",
    "    for _ in range(transformer_layers):\n",
    "        #  normalization 1.\n",
    "        x1 = layers.LayerNormalization(epsilon=1e-6)(encoded_patches)\n",
    "        attention_output = layers.MultiHeadAttention(\n",
    "            num_heads=num_heads, key_dim=projection_dim, dropout=0.1\n",
    "        )(x1, x1)\n",
    "        x2 = layers.Add()([attention_output, encoded_patches])\n",
    "        #  normalization 2.\n",
    "        x3 = layers.LayerNormalization(epsilon=1e-6)(x2)\n",
    "        x3 = mlp(x3, hidden_units=transformer_units, dropout_rate=0.1)\n",
    "        #  connection 2.\n",
    "        encoded_patches = layers.Add()([x3, x2])\n",
    "\n",
    "    representation = layers.LayerNormalization(epsilon=1e-6)(encoded_patches)\n",
    "    representation = layers.Flatten()(representation)\n",
    "    representation = layers.Dropout(0.3)(representation)\n",
    "    features = mlp(representation, hidden_units=mlp_head_units, dropout_rate=0.3)\n",
    "\n",
    "    bounding_box = layers.Dense(4)(\n",
    "        features\n",
    "    ) \n",
    "\n",
    "    return keras.Model(inputs=inputs, outputs=bounding_box)"
   ]
  },
  {
   "cell_type": "code",
   "execution_count": 24,
   "id": "193e1553",
   "metadata": {},
   "outputs": [],
   "source": [
    "def run_experiment(model, learning_rate, weight_decay, batch_size, num_epochs):\n",
    "\n",
    "    optimizer = tfa.optimizers.AdamW(\n",
    "        learning_rate=learning_rate, weight_decay=weight_decay\n",
    "    )\n",
    "\n",
    "    model.compile(optimizer=optimizer, loss=keras.losses.MeanSquaredError())\n",
    "\n",
    "    checkpoint_filepath = \"logs/\"\n",
    "    checkpoint_callback = keras.callbacks.ModelCheckpoint(\n",
    "        checkpoint_filepath,\n",
    "        monitor=\"val_loss\",\n",
    "        save_best_only=True,\n",
    "        save_weights_only=True,\n",
    "    )\n",
    "\n",
    "    history = model.fit(\n",
    "        x=x_train,\n",
    "        y=y_train,\n",
    "        batch_size=batch_size,\n",
    "        epochs=num_epochs,\n",
    "        validation_split=0.1,\n",
    "        callbacks=[\n",
    "            checkpoint_callback,\n",
    "            keras.callbacks.EarlyStopping(monitor=\"val_loss\", patience=10),\n",
    "        ],\n",
    "    )\n",
    "\n",
    "    return history"
   ]
  },
  {
   "cell_type": "code",
   "execution_count": 25,
   "id": "63ba293b",
   "metadata": {},
   "outputs": [],
   "source": [
    "input_shape = (image_size, image_size, 3) \n",
    "learning_rate = 0.001\n",
    "weight_decay = 0.0001\n",
    "batch_size = 32\n",
    "num_epochs = 100\n",
    "num_patches = (image_size // patch_size) ** 2\n",
    "projection_dim = 64\n",
    "num_heads = 4\n",
    "transformer_units = [\n",
    "    projection_dim * 2,\n",
    "    projection_dim,\n",
    "]\n",
    "transformer_layers = 4\n",
    "mlp_head_units = [2048, 1024, 512, 64, 32]  \n",
    "\n",
    "\n",
    "history = []\n",
    "num_patches = (image_size // patch_size) ** 2\n",
    "\n",
    "vit_object_detector = create_vit_object_detector(\n",
    "    input_shape,\n",
    "    patch_size,\n",
    "    num_patches,\n",
    "    projection_dim,\n",
    "    num_heads,\n",
    "    transformer_units,\n",
    "    transformer_layers,\n",
    "    mlp_head_units,\n",
    ")"
   ]
  },
  {
   "cell_type": "code",
   "execution_count": 26,
   "id": "a004891a",
   "metadata": {},
   "outputs": [
    {
     "name": "stdout",
     "output_type": "stream",
     "text": [
      "Epoch 1/100\n"
     ]
    },
    {
     "name": "stderr",
     "output_type": "stream",
     "text": [
      "2022-12-23 09:42:08.431144: W tensorflow/core/platform/profile_utils/cpu_utils.cc:128] Failed to get CPU frequency: 0 Hz\n",
      "2022-12-23 09:42:11.006233: I tensorflow/core/grappler/optimizers/custom_graph_optimizer_registry.cc:114] Plugin optimizer for device_type GPU is enabled.\n"
     ]
    },
    {
     "name": "stdout",
     "output_type": "stream",
     "text": [
      "169/169 [==============================] - ETA: 0s - loss: 0.1149"
     ]
    },
    {
     "name": "stderr",
     "output_type": "stream",
     "text": [
      "2022-12-23 09:42:44.449980: I tensorflow/core/grappler/optimizers/custom_graph_optimizer_registry.cc:114] Plugin optimizer for device_type GPU is enabled.\n"
     ]
    },
    {
     "name": "stdout",
     "output_type": "stream",
     "text": [
      "169/169 [==============================] - 39s 202ms/step - loss: 0.1149 - val_loss: 0.0606\n",
      "Epoch 2/100\n",
      "169/169 [==============================] - 33s 196ms/step - loss: 0.0311 - val_loss: 0.0406\n",
      "Epoch 3/100\n",
      "169/169 [==============================] - 751s 4s/step - loss: 0.0259 - val_loss: 0.0302\n",
      "Epoch 4/100\n",
      "169/169 [==============================] - 37s 218ms/step - loss: 0.0240 - val_loss: 0.0350\n",
      "Epoch 5/100\n",
      "169/169 [==============================] - 36s 211ms/step - loss: 0.0235 - val_loss: 0.0304\n",
      "Epoch 6/100\n",
      "169/169 [==============================] - 35s 205ms/step - loss: 0.0230 - val_loss: 0.0262\n",
      "Epoch 7/100\n",
      "169/169 [==============================] - 37s 221ms/step - loss: 0.0229 - val_loss: 0.0267\n",
      "Epoch 8/100\n",
      "169/169 [==============================] - 38s 226ms/step - loss: 0.0227 - val_loss: 0.0261\n",
      "Epoch 9/100\n",
      "169/169 [==============================] - 39s 232ms/step - loss: 0.0226 - val_loss: 0.0250\n",
      "Epoch 10/100\n",
      "169/169 [==============================] - 41s 240ms/step - loss: 0.0226 - val_loss: 0.0254\n",
      "Epoch 11/100\n",
      "169/169 [==============================] - 40s 238ms/step - loss: 0.0225 - val_loss: 0.0243\n",
      "Epoch 12/100\n",
      "169/169 [==============================] - 39s 228ms/step - loss: 0.0224 - val_loss: 0.0234\n",
      "Epoch 13/100\n",
      "169/169 [==============================] - 38s 224ms/step - loss: 0.0224 - val_loss: 0.0248\n",
      "Epoch 14/100\n",
      "169/169 [==============================] - 38s 227ms/step - loss: 0.0225 - val_loss: 0.0257\n",
      "Epoch 15/100\n",
      "169/169 [==============================] - 39s 228ms/step - loss: 0.0223 - val_loss: 0.0236\n",
      "Epoch 16/100\n",
      "169/169 [==============================] - 39s 232ms/step - loss: 0.0224 - val_loss: 0.0232\n",
      "Epoch 17/100\n",
      "169/169 [==============================] - 39s 229ms/step - loss: 0.0223 - val_loss: 0.0227\n",
      "Epoch 18/100\n",
      "169/169 [==============================] - 39s 228ms/step - loss: 0.0223 - val_loss: 0.0230\n",
      "Epoch 19/100\n",
      "169/169 [==============================] - 38s 225ms/step - loss: 0.0222 - val_loss: 0.0235\n",
      "Epoch 20/100\n",
      "169/169 [==============================] - 38s 225ms/step - loss: 0.0223 - val_loss: 0.0216\n",
      "Epoch 21/100\n",
      "169/169 [==============================] - 38s 226ms/step - loss: 0.0223 - val_loss: 0.0226\n",
      "Epoch 22/100\n",
      "169/169 [==============================] - 39s 229ms/step - loss: 0.0223 - val_loss: 0.0220\n",
      "Epoch 23/100\n",
      "169/169 [==============================] - 39s 228ms/step - loss: 0.0223 - val_loss: 0.0227\n",
      "Epoch 24/100\n",
      "169/169 [==============================] - 39s 230ms/step - loss: 0.0223 - val_loss: 0.0220\n",
      "Epoch 25/100\n",
      "169/169 [==============================] - 39s 227ms/step - loss: 0.0222 - val_loss: 0.0219\n",
      "Epoch 26/100\n",
      "169/169 [==============================] - 35s 207ms/step - loss: 0.0222 - val_loss: 0.0221\n",
      "Epoch 27/100\n",
      "169/169 [==============================] - 34s 202ms/step - loss: 0.0222 - val_loss: 0.0221\n",
      "Epoch 28/100\n",
      "169/169 [==============================] - 34s 200ms/step - loss: 0.0223 - val_loss: 0.0216\n",
      "Epoch 29/100\n",
      "169/169 [==============================] - 34s 199ms/step - loss: 0.0222 - val_loss: 0.0216\n",
      "Epoch 30/100\n",
      "169/169 [==============================] - 34s 202ms/step - loss: 0.0222 - val_loss: 0.0212\n",
      "Epoch 31/100\n",
      "169/169 [==============================] - 34s 202ms/step - loss: 0.0221 - val_loss: 0.0212\n",
      "Epoch 32/100\n",
      "169/169 [==============================] - 34s 200ms/step - loss: 0.0221 - val_loss: 0.0216\n",
      "Epoch 33/100\n",
      "169/169 [==============================] - 34s 203ms/step - loss: 0.0222 - val_loss: 0.0213\n",
      "Epoch 34/100\n",
      "169/169 [==============================] - 34s 199ms/step - loss: 0.0222 - val_loss: 0.0212\n",
      "Epoch 35/100\n",
      "169/169 [==============================] - 34s 202ms/step - loss: 0.0221 - val_loss: 0.0212\n",
      "Epoch 36/100\n",
      "169/169 [==============================] - 35s 207ms/step - loss: 0.0222 - val_loss: 0.0212\n",
      "Epoch 37/100\n",
      "169/169 [==============================] - 35s 205ms/step - loss: 0.0222 - val_loss: 0.0212\n",
      "Epoch 38/100\n",
      "169/169 [==============================] - 35s 204ms/step - loss: 0.0221 - val_loss: 0.0211\n",
      "Epoch 39/100\n",
      "169/169 [==============================] - 34s 203ms/step - loss: 0.0221 - val_loss: 0.0211\n",
      "Epoch 40/100\n",
      "169/169 [==============================] - 35s 206ms/step - loss: 0.0221 - val_loss: 0.0211\n",
      "Epoch 41/100\n",
      "169/169 [==============================] - 35s 205ms/step - loss: 0.0222 - val_loss: 0.0211\n",
      "Epoch 42/100\n",
      "169/169 [==============================] - 34s 199ms/step - loss: 0.0221 - val_loss: 0.0211\n",
      "Epoch 43/100\n",
      "169/169 [==============================] - 34s 200ms/step - loss: 0.0221 - val_loss: 0.0211\n",
      "Epoch 44/100\n",
      "169/169 [==============================] - 35s 204ms/step - loss: 0.0221 - val_loss: 0.0209\n",
      "Epoch 45/100\n",
      "169/169 [==============================] - 35s 205ms/step - loss: 0.0222 - val_loss: 0.0208\n",
      "Epoch 46/100\n",
      "169/169 [==============================] - 34s 202ms/step - loss: 0.0221 - val_loss: 0.0209\n",
      "Epoch 47/100\n",
      "169/169 [==============================] - 34s 203ms/step - loss: 0.0220 - val_loss: 0.0204\n",
      "Epoch 48/100\n",
      "169/169 [==============================] - 35s 204ms/step - loss: 0.0213 - val_loss: 0.0193\n",
      "Epoch 49/100\n",
      "169/169 [==============================] - 35s 204ms/step - loss: 0.0204 - val_loss: 0.0189\n",
      "Epoch 50/100\n",
      "169/169 [==============================] - 34s 204ms/step - loss: 0.0196 - val_loss: 0.0195\n",
      "Epoch 51/100\n",
      "169/169 [==============================] - 34s 202ms/step - loss: 0.0191 - val_loss: 0.0159\n",
      "Epoch 52/100\n",
      "169/169 [==============================] - 34s 201ms/step - loss: 0.0412 - val_loss: 0.0208\n",
      "Epoch 53/100\n",
      "169/169 [==============================] - 34s 201ms/step - loss: 0.0223 - val_loss: 0.0208\n",
      "Epoch 54/100\n",
      "169/169 [==============================] - 34s 200ms/step - loss: 0.0222 - val_loss: 0.0208\n",
      "Epoch 55/100\n",
      "169/169 [==============================] - 35s 205ms/step - loss: 0.0221 - val_loss: 0.0208\n",
      "Epoch 56/100\n",
      "169/169 [==============================] - 34s 202ms/step - loss: 0.0220 - val_loss: 0.0208\n",
      "Epoch 57/100\n",
      "169/169 [==============================] - 34s 200ms/step - loss: 0.0221 - val_loss: 0.0208\n",
      "Epoch 58/100\n",
      "169/169 [==============================] - 34s 200ms/step - loss: 0.0221 - val_loss: 0.0208\n",
      "Epoch 59/100\n",
      "169/169 [==============================] - 34s 200ms/step - loss: 0.0221 - val_loss: 0.0208\n",
      "Epoch 60/100\n",
      "169/169 [==============================] - 35s 207ms/step - loss: 0.0220 - val_loss: 0.0209\n",
      "Epoch 61/100\n",
      "169/169 [==============================] - 38s 223ms/step - loss: 0.0220 - val_loss: 0.0208\n"
     ]
    }
   ],
   "source": [
    "history = run_experiment(\n",
    "    vit_object_detector, learning_rate, weight_decay, batch_size, num_epochs\n",
    ")"
   ]
  },
  {
   "cell_type": "code",
   "execution_count": null,
   "id": "48cd32f7",
   "metadata": {},
   "outputs": [],
   "source": []
  }
 ],
 "metadata": {
  "kernelspec": {
   "display_name": "Python 3 (ipykernel)",
   "language": "python",
   "name": "python3"
  },
  "language_info": {
   "codemirror_mode": {
    "name": "ipython",
    "version": 3
   },
   "file_extension": ".py",
   "mimetype": "text/x-python",
   "name": "python",
   "nbconvert_exporter": "python",
   "pygments_lexer": "ipython3",
   "version": "3.10.8"
  }
 },
 "nbformat": 4,
 "nbformat_minor": 5
}
